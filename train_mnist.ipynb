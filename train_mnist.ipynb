{
  "nbformat": 4,
  "nbformat_minor": 0,
  "metadata": {
    "colab": {
      "name": "train_mnist.ipynb",
      "provenance": [],
      "collapsed_sections": [],
      "include_colab_link": true
    },
    "kernelspec": {
      "name": "python3",
      "display_name": "Python 3"
    },
    "widgets": {
      "application/vnd.jupyter.widget-state+json": {
        "c83f6129960b46e5a94a050199b1bf4d": {
          "model_module": "@jupyter-widgets/controls",
          "model_name": "HBoxModel",
          "state": {
            "_view_name": "HBoxView",
            "_dom_classes": [],
            "_model_name": "HBoxModel",
            "_view_module": "@jupyter-widgets/controls",
            "_model_module_version": "1.5.0",
            "_view_count": null,
            "_view_module_version": "1.5.0",
            "box_style": "",
            "layout": "IPY_MODEL_d3c4ce6a6d374c078cd3286742ab1e54",
            "_model_module": "@jupyter-widgets/controls",
            "children": [
              "IPY_MODEL_4d1ff3d1c4234515999a6fa64b2e51da",
              "IPY_MODEL_7249e19a4e2a4933bf1dee2d2180421a"
            ]
          }
        },
        "d3c4ce6a6d374c078cd3286742ab1e54": {
          "model_module": "@jupyter-widgets/base",
          "model_name": "LayoutModel",
          "state": {
            "_view_name": "LayoutView",
            "grid_template_rows": null,
            "right": null,
            "justify_content": null,
            "_view_module": "@jupyter-widgets/base",
            "overflow": null,
            "_model_module_version": "1.2.0",
            "_view_count": null,
            "flex_flow": null,
            "width": null,
            "min_width": null,
            "border": null,
            "align_items": null,
            "bottom": null,
            "_model_module": "@jupyter-widgets/base",
            "top": null,
            "grid_column": null,
            "overflow_y": null,
            "overflow_x": null,
            "grid_auto_flow": null,
            "grid_area": null,
            "grid_template_columns": null,
            "flex": null,
            "_model_name": "LayoutModel",
            "justify_items": null,
            "grid_row": null,
            "max_height": null,
            "align_content": null,
            "visibility": null,
            "align_self": null,
            "height": null,
            "min_height": null,
            "padding": null,
            "grid_auto_rows": null,
            "grid_gap": null,
            "max_width": null,
            "order": null,
            "_view_module_version": "1.2.0",
            "grid_template_areas": null,
            "object_position": null,
            "object_fit": null,
            "grid_auto_columns": null,
            "margin": null,
            "display": null,
            "left": null
          }
        },
        "4d1ff3d1c4234515999a6fa64b2e51da": {
          "model_module": "@jupyter-widgets/controls",
          "model_name": "FloatProgressModel",
          "state": {
            "_view_name": "ProgressView",
            "style": "IPY_MODEL_f94303df02d34e1da32b45277bf58f17",
            "_dom_classes": [],
            "description": "",
            "_model_name": "FloatProgressModel",
            "bar_style": "success",
            "max": 9912422,
            "_view_module": "@jupyter-widgets/controls",
            "_model_module_version": "1.5.0",
            "value": 9912422,
            "_view_count": null,
            "_view_module_version": "1.5.0",
            "orientation": "horizontal",
            "min": 0,
            "description_tooltip": null,
            "_model_module": "@jupyter-widgets/controls",
            "layout": "IPY_MODEL_94beca4133dd4840b80c18bd88afae17"
          }
        },
        "7249e19a4e2a4933bf1dee2d2180421a": {
          "model_module": "@jupyter-widgets/controls",
          "model_name": "HTMLModel",
          "state": {
            "_view_name": "HTMLView",
            "style": "IPY_MODEL_5a03f07d4be14b62acff19303bdde4df",
            "_dom_classes": [],
            "description": "",
            "_model_name": "HTMLModel",
            "placeholder": "​",
            "_view_module": "@jupyter-widgets/controls",
            "_model_module_version": "1.5.0",
            "value": " 9913344/? [00:01&lt;00:00, 9150191.73it/s]",
            "_view_count": null,
            "_view_module_version": "1.5.0",
            "description_tooltip": null,
            "_model_module": "@jupyter-widgets/controls",
            "layout": "IPY_MODEL_190bb897a4cf4d0fa84f183971e0ed7c"
          }
        },
        "f94303df02d34e1da32b45277bf58f17": {
          "model_module": "@jupyter-widgets/controls",
          "model_name": "ProgressStyleModel",
          "state": {
            "_view_name": "StyleView",
            "_model_name": "ProgressStyleModel",
            "description_width": "initial",
            "_view_module": "@jupyter-widgets/base",
            "_model_module_version": "1.5.0",
            "_view_count": null,
            "_view_module_version": "1.2.0",
            "bar_color": null,
            "_model_module": "@jupyter-widgets/controls"
          }
        },
        "94beca4133dd4840b80c18bd88afae17": {
          "model_module": "@jupyter-widgets/base",
          "model_name": "LayoutModel",
          "state": {
            "_view_name": "LayoutView",
            "grid_template_rows": null,
            "right": null,
            "justify_content": null,
            "_view_module": "@jupyter-widgets/base",
            "overflow": null,
            "_model_module_version": "1.2.0",
            "_view_count": null,
            "flex_flow": null,
            "width": null,
            "min_width": null,
            "border": null,
            "align_items": null,
            "bottom": null,
            "_model_module": "@jupyter-widgets/base",
            "top": null,
            "grid_column": null,
            "overflow_y": null,
            "overflow_x": null,
            "grid_auto_flow": null,
            "grid_area": null,
            "grid_template_columns": null,
            "flex": null,
            "_model_name": "LayoutModel",
            "justify_items": null,
            "grid_row": null,
            "max_height": null,
            "align_content": null,
            "visibility": null,
            "align_self": null,
            "height": null,
            "min_height": null,
            "padding": null,
            "grid_auto_rows": null,
            "grid_gap": null,
            "max_width": null,
            "order": null,
            "_view_module_version": "1.2.0",
            "grid_template_areas": null,
            "object_position": null,
            "object_fit": null,
            "grid_auto_columns": null,
            "margin": null,
            "display": null,
            "left": null
          }
        },
        "5a03f07d4be14b62acff19303bdde4df": {
          "model_module": "@jupyter-widgets/controls",
          "model_name": "DescriptionStyleModel",
          "state": {
            "_view_name": "StyleView",
            "_model_name": "DescriptionStyleModel",
            "description_width": "",
            "_view_module": "@jupyter-widgets/base",
            "_model_module_version": "1.5.0",
            "_view_count": null,
            "_view_module_version": "1.2.0",
            "_model_module": "@jupyter-widgets/controls"
          }
        },
        "190bb897a4cf4d0fa84f183971e0ed7c": {
          "model_module": "@jupyter-widgets/base",
          "model_name": "LayoutModel",
          "state": {
            "_view_name": "LayoutView",
            "grid_template_rows": null,
            "right": null,
            "justify_content": null,
            "_view_module": "@jupyter-widgets/base",
            "overflow": null,
            "_model_module_version": "1.2.0",
            "_view_count": null,
            "flex_flow": null,
            "width": null,
            "min_width": null,
            "border": null,
            "align_items": null,
            "bottom": null,
            "_model_module": "@jupyter-widgets/base",
            "top": null,
            "grid_column": null,
            "overflow_y": null,
            "overflow_x": null,
            "grid_auto_flow": null,
            "grid_area": null,
            "grid_template_columns": null,
            "flex": null,
            "_model_name": "LayoutModel",
            "justify_items": null,
            "grid_row": null,
            "max_height": null,
            "align_content": null,
            "visibility": null,
            "align_self": null,
            "height": null,
            "min_height": null,
            "padding": null,
            "grid_auto_rows": null,
            "grid_gap": null,
            "max_width": null,
            "order": null,
            "_view_module_version": "1.2.0",
            "grid_template_areas": null,
            "object_position": null,
            "object_fit": null,
            "grid_auto_columns": null,
            "margin": null,
            "display": null,
            "left": null
          }
        },
        "a55cf029a7914c4080d3874338a3bb74": {
          "model_module": "@jupyter-widgets/controls",
          "model_name": "HBoxModel",
          "state": {
            "_view_name": "HBoxView",
            "_dom_classes": [],
            "_model_name": "HBoxModel",
            "_view_module": "@jupyter-widgets/controls",
            "_model_module_version": "1.5.0",
            "_view_count": null,
            "_view_module_version": "1.5.0",
            "box_style": "",
            "layout": "IPY_MODEL_262c4288faef438ebfb711d47ef442ec",
            "_model_module": "@jupyter-widgets/controls",
            "children": [
              "IPY_MODEL_b959866c18ba4fbcafd021afa7b5f4ff",
              "IPY_MODEL_73506b9935eb435082ffdf0a3bc56d13"
            ]
          }
        },
        "262c4288faef438ebfb711d47ef442ec": {
          "model_module": "@jupyter-widgets/base",
          "model_name": "LayoutModel",
          "state": {
            "_view_name": "LayoutView",
            "grid_template_rows": null,
            "right": null,
            "justify_content": null,
            "_view_module": "@jupyter-widgets/base",
            "overflow": null,
            "_model_module_version": "1.2.0",
            "_view_count": null,
            "flex_flow": null,
            "width": null,
            "min_width": null,
            "border": null,
            "align_items": null,
            "bottom": null,
            "_model_module": "@jupyter-widgets/base",
            "top": null,
            "grid_column": null,
            "overflow_y": null,
            "overflow_x": null,
            "grid_auto_flow": null,
            "grid_area": null,
            "grid_template_columns": null,
            "flex": null,
            "_model_name": "LayoutModel",
            "justify_items": null,
            "grid_row": null,
            "max_height": null,
            "align_content": null,
            "visibility": null,
            "align_self": null,
            "height": null,
            "min_height": null,
            "padding": null,
            "grid_auto_rows": null,
            "grid_gap": null,
            "max_width": null,
            "order": null,
            "_view_module_version": "1.2.0",
            "grid_template_areas": null,
            "object_position": null,
            "object_fit": null,
            "grid_auto_columns": null,
            "margin": null,
            "display": null,
            "left": null
          }
        },
        "b959866c18ba4fbcafd021afa7b5f4ff": {
          "model_module": "@jupyter-widgets/controls",
          "model_name": "FloatProgressModel",
          "state": {
            "_view_name": "ProgressView",
            "style": "IPY_MODEL_3e5ada2a26a944d59b9f262c20ad37de",
            "_dom_classes": [],
            "description": "",
            "_model_name": "FloatProgressModel",
            "bar_style": "success",
            "max": 28881,
            "_view_module": "@jupyter-widgets/controls",
            "_model_module_version": "1.5.0",
            "value": 28881,
            "_view_count": null,
            "_view_module_version": "1.5.0",
            "orientation": "horizontal",
            "min": 0,
            "description_tooltip": null,
            "_model_module": "@jupyter-widgets/controls",
            "layout": "IPY_MODEL_08ca7434635d43c7ad5f4b8ed6df77f8"
          }
        },
        "73506b9935eb435082ffdf0a3bc56d13": {
          "model_module": "@jupyter-widgets/controls",
          "model_name": "HTMLModel",
          "state": {
            "_view_name": "HTMLView",
            "style": "IPY_MODEL_5946bdab4604467f991b6fa070faae00",
            "_dom_classes": [],
            "description": "",
            "_model_name": "HTMLModel",
            "placeholder": "​",
            "_view_module": "@jupyter-widgets/controls",
            "_model_module_version": "1.5.0",
            "value": " 29696/? [00:01&lt;00:00, 19401.92it/s]",
            "_view_count": null,
            "_view_module_version": "1.5.0",
            "description_tooltip": null,
            "_model_module": "@jupyter-widgets/controls",
            "layout": "IPY_MODEL_4457e4ff025a44ae86d7154b403600e4"
          }
        },
        "3e5ada2a26a944d59b9f262c20ad37de": {
          "model_module": "@jupyter-widgets/controls",
          "model_name": "ProgressStyleModel",
          "state": {
            "_view_name": "StyleView",
            "_model_name": "ProgressStyleModel",
            "description_width": "initial",
            "_view_module": "@jupyter-widgets/base",
            "_model_module_version": "1.5.0",
            "_view_count": null,
            "_view_module_version": "1.2.0",
            "bar_color": null,
            "_model_module": "@jupyter-widgets/controls"
          }
        },
        "08ca7434635d43c7ad5f4b8ed6df77f8": {
          "model_module": "@jupyter-widgets/base",
          "model_name": "LayoutModel",
          "state": {
            "_view_name": "LayoutView",
            "grid_template_rows": null,
            "right": null,
            "justify_content": null,
            "_view_module": "@jupyter-widgets/base",
            "overflow": null,
            "_model_module_version": "1.2.0",
            "_view_count": null,
            "flex_flow": null,
            "width": null,
            "min_width": null,
            "border": null,
            "align_items": null,
            "bottom": null,
            "_model_module": "@jupyter-widgets/base",
            "top": null,
            "grid_column": null,
            "overflow_y": null,
            "overflow_x": null,
            "grid_auto_flow": null,
            "grid_area": null,
            "grid_template_columns": null,
            "flex": null,
            "_model_name": "LayoutModel",
            "justify_items": null,
            "grid_row": null,
            "max_height": null,
            "align_content": null,
            "visibility": null,
            "align_self": null,
            "height": null,
            "min_height": null,
            "padding": null,
            "grid_auto_rows": null,
            "grid_gap": null,
            "max_width": null,
            "order": null,
            "_view_module_version": "1.2.0",
            "grid_template_areas": null,
            "object_position": null,
            "object_fit": null,
            "grid_auto_columns": null,
            "margin": null,
            "display": null,
            "left": null
          }
        },
        "5946bdab4604467f991b6fa070faae00": {
          "model_module": "@jupyter-widgets/controls",
          "model_name": "DescriptionStyleModel",
          "state": {
            "_view_name": "StyleView",
            "_model_name": "DescriptionStyleModel",
            "description_width": "",
            "_view_module": "@jupyter-widgets/base",
            "_model_module_version": "1.5.0",
            "_view_count": null,
            "_view_module_version": "1.2.0",
            "_model_module": "@jupyter-widgets/controls"
          }
        },
        "4457e4ff025a44ae86d7154b403600e4": {
          "model_module": "@jupyter-widgets/base",
          "model_name": "LayoutModel",
          "state": {
            "_view_name": "LayoutView",
            "grid_template_rows": null,
            "right": null,
            "justify_content": null,
            "_view_module": "@jupyter-widgets/base",
            "overflow": null,
            "_model_module_version": "1.2.0",
            "_view_count": null,
            "flex_flow": null,
            "width": null,
            "min_width": null,
            "border": null,
            "align_items": null,
            "bottom": null,
            "_model_module": "@jupyter-widgets/base",
            "top": null,
            "grid_column": null,
            "overflow_y": null,
            "overflow_x": null,
            "grid_auto_flow": null,
            "grid_area": null,
            "grid_template_columns": null,
            "flex": null,
            "_model_name": "LayoutModel",
            "justify_items": null,
            "grid_row": null,
            "max_height": null,
            "align_content": null,
            "visibility": null,
            "align_self": null,
            "height": null,
            "min_height": null,
            "padding": null,
            "grid_auto_rows": null,
            "grid_gap": null,
            "max_width": null,
            "order": null,
            "_view_module_version": "1.2.0",
            "grid_template_areas": null,
            "object_position": null,
            "object_fit": null,
            "grid_auto_columns": null,
            "margin": null,
            "display": null,
            "left": null
          }
        },
        "7ad514026fea42628dffe0c9189eba6b": {
          "model_module": "@jupyter-widgets/controls",
          "model_name": "HBoxModel",
          "state": {
            "_view_name": "HBoxView",
            "_dom_classes": [],
            "_model_name": "HBoxModel",
            "_view_module": "@jupyter-widgets/controls",
            "_model_module_version": "1.5.0",
            "_view_count": null,
            "_view_module_version": "1.5.0",
            "box_style": "",
            "layout": "IPY_MODEL_c507426a8a814008ac617e2edaf2e161",
            "_model_module": "@jupyter-widgets/controls",
            "children": [
              "IPY_MODEL_1bba67dd635246dba57a25e1ca00d92e",
              "IPY_MODEL_c8c01143c7ba45b8b9c8febda3a9144e"
            ]
          }
        },
        "c507426a8a814008ac617e2edaf2e161": {
          "model_module": "@jupyter-widgets/base",
          "model_name": "LayoutModel",
          "state": {
            "_view_name": "LayoutView",
            "grid_template_rows": null,
            "right": null,
            "justify_content": null,
            "_view_module": "@jupyter-widgets/base",
            "overflow": null,
            "_model_module_version": "1.2.0",
            "_view_count": null,
            "flex_flow": null,
            "width": null,
            "min_width": null,
            "border": null,
            "align_items": null,
            "bottom": null,
            "_model_module": "@jupyter-widgets/base",
            "top": null,
            "grid_column": null,
            "overflow_y": null,
            "overflow_x": null,
            "grid_auto_flow": null,
            "grid_area": null,
            "grid_template_columns": null,
            "flex": null,
            "_model_name": "LayoutModel",
            "justify_items": null,
            "grid_row": null,
            "max_height": null,
            "align_content": null,
            "visibility": null,
            "align_self": null,
            "height": null,
            "min_height": null,
            "padding": null,
            "grid_auto_rows": null,
            "grid_gap": null,
            "max_width": null,
            "order": null,
            "_view_module_version": "1.2.0",
            "grid_template_areas": null,
            "object_position": null,
            "object_fit": null,
            "grid_auto_columns": null,
            "margin": null,
            "display": null,
            "left": null
          }
        },
        "1bba67dd635246dba57a25e1ca00d92e": {
          "model_module": "@jupyter-widgets/controls",
          "model_name": "FloatProgressModel",
          "state": {
            "_view_name": "ProgressView",
            "style": "IPY_MODEL_2e14d2b1379e400b9c8e28e8d1bec051",
            "_dom_classes": [],
            "description": "",
            "_model_name": "FloatProgressModel",
            "bar_style": "success",
            "max": 1648877,
            "_view_module": "@jupyter-widgets/controls",
            "_model_module_version": "1.5.0",
            "value": 1648877,
            "_view_count": null,
            "_view_module_version": "1.5.0",
            "orientation": "horizontal",
            "min": 0,
            "description_tooltip": null,
            "_model_module": "@jupyter-widgets/controls",
            "layout": "IPY_MODEL_c571bff0c607459183f4a9ec84c7ab2c"
          }
        },
        "c8c01143c7ba45b8b9c8febda3a9144e": {
          "model_module": "@jupyter-widgets/controls",
          "model_name": "HTMLModel",
          "state": {
            "_view_name": "HTMLView",
            "style": "IPY_MODEL_306e5c1c87d4427282d4939de9d41540",
            "_dom_classes": [],
            "description": "",
            "_model_name": "HTMLModel",
            "placeholder": "​",
            "_view_module": "@jupyter-widgets/controls",
            "_model_module_version": "1.5.0",
            "value": " 1649664/? [00:01&lt;00:00, 1631397.10it/s]",
            "_view_count": null,
            "_view_module_version": "1.5.0",
            "description_tooltip": null,
            "_model_module": "@jupyter-widgets/controls",
            "layout": "IPY_MODEL_e39b1f47ac8f4282a7c0176a1200f850"
          }
        },
        "2e14d2b1379e400b9c8e28e8d1bec051": {
          "model_module": "@jupyter-widgets/controls",
          "model_name": "ProgressStyleModel",
          "state": {
            "_view_name": "StyleView",
            "_model_name": "ProgressStyleModel",
            "description_width": "initial",
            "_view_module": "@jupyter-widgets/base",
            "_model_module_version": "1.5.0",
            "_view_count": null,
            "_view_module_version": "1.2.0",
            "bar_color": null,
            "_model_module": "@jupyter-widgets/controls"
          }
        },
        "c571bff0c607459183f4a9ec84c7ab2c": {
          "model_module": "@jupyter-widgets/base",
          "model_name": "LayoutModel",
          "state": {
            "_view_name": "LayoutView",
            "grid_template_rows": null,
            "right": null,
            "justify_content": null,
            "_view_module": "@jupyter-widgets/base",
            "overflow": null,
            "_model_module_version": "1.2.0",
            "_view_count": null,
            "flex_flow": null,
            "width": null,
            "min_width": null,
            "border": null,
            "align_items": null,
            "bottom": null,
            "_model_module": "@jupyter-widgets/base",
            "top": null,
            "grid_column": null,
            "overflow_y": null,
            "overflow_x": null,
            "grid_auto_flow": null,
            "grid_area": null,
            "grid_template_columns": null,
            "flex": null,
            "_model_name": "LayoutModel",
            "justify_items": null,
            "grid_row": null,
            "max_height": null,
            "align_content": null,
            "visibility": null,
            "align_self": null,
            "height": null,
            "min_height": null,
            "padding": null,
            "grid_auto_rows": null,
            "grid_gap": null,
            "max_width": null,
            "order": null,
            "_view_module_version": "1.2.0",
            "grid_template_areas": null,
            "object_position": null,
            "object_fit": null,
            "grid_auto_columns": null,
            "margin": null,
            "display": null,
            "left": null
          }
        },
        "306e5c1c87d4427282d4939de9d41540": {
          "model_module": "@jupyter-widgets/controls",
          "model_name": "DescriptionStyleModel",
          "state": {
            "_view_name": "StyleView",
            "_model_name": "DescriptionStyleModel",
            "description_width": "",
            "_view_module": "@jupyter-widgets/base",
            "_model_module_version": "1.5.0",
            "_view_count": null,
            "_view_module_version": "1.2.0",
            "_model_module": "@jupyter-widgets/controls"
          }
        },
        "e39b1f47ac8f4282a7c0176a1200f850": {
          "model_module": "@jupyter-widgets/base",
          "model_name": "LayoutModel",
          "state": {
            "_view_name": "LayoutView",
            "grid_template_rows": null,
            "right": null,
            "justify_content": null,
            "_view_module": "@jupyter-widgets/base",
            "overflow": null,
            "_model_module_version": "1.2.0",
            "_view_count": null,
            "flex_flow": null,
            "width": null,
            "min_width": null,
            "border": null,
            "align_items": null,
            "bottom": null,
            "_model_module": "@jupyter-widgets/base",
            "top": null,
            "grid_column": null,
            "overflow_y": null,
            "overflow_x": null,
            "grid_auto_flow": null,
            "grid_area": null,
            "grid_template_columns": null,
            "flex": null,
            "_model_name": "LayoutModel",
            "justify_items": null,
            "grid_row": null,
            "max_height": null,
            "align_content": null,
            "visibility": null,
            "align_self": null,
            "height": null,
            "min_height": null,
            "padding": null,
            "grid_auto_rows": null,
            "grid_gap": null,
            "max_width": null,
            "order": null,
            "_view_module_version": "1.2.0",
            "grid_template_areas": null,
            "object_position": null,
            "object_fit": null,
            "grid_auto_columns": null,
            "margin": null,
            "display": null,
            "left": null
          }
        },
        "d87f7c0fd31b4d24bff87517755e9ab8": {
          "model_module": "@jupyter-widgets/controls",
          "model_name": "HBoxModel",
          "state": {
            "_view_name": "HBoxView",
            "_dom_classes": [],
            "_model_name": "HBoxModel",
            "_view_module": "@jupyter-widgets/controls",
            "_model_module_version": "1.5.0",
            "_view_count": null,
            "_view_module_version": "1.5.0",
            "box_style": "",
            "layout": "IPY_MODEL_41209cd89ac5403cbaa74097dbe575bd",
            "_model_module": "@jupyter-widgets/controls",
            "children": [
              "IPY_MODEL_4beccd4f23004be39a929be3e74b84b0",
              "IPY_MODEL_fca4853a9a4d48939682b4fce97f2b16"
            ]
          }
        },
        "41209cd89ac5403cbaa74097dbe575bd": {
          "model_module": "@jupyter-widgets/base",
          "model_name": "LayoutModel",
          "state": {
            "_view_name": "LayoutView",
            "grid_template_rows": null,
            "right": null,
            "justify_content": null,
            "_view_module": "@jupyter-widgets/base",
            "overflow": null,
            "_model_module_version": "1.2.0",
            "_view_count": null,
            "flex_flow": null,
            "width": null,
            "min_width": null,
            "border": null,
            "align_items": null,
            "bottom": null,
            "_model_module": "@jupyter-widgets/base",
            "top": null,
            "grid_column": null,
            "overflow_y": null,
            "overflow_x": null,
            "grid_auto_flow": null,
            "grid_area": null,
            "grid_template_columns": null,
            "flex": null,
            "_model_name": "LayoutModel",
            "justify_items": null,
            "grid_row": null,
            "max_height": null,
            "align_content": null,
            "visibility": null,
            "align_self": null,
            "height": null,
            "min_height": null,
            "padding": null,
            "grid_auto_rows": null,
            "grid_gap": null,
            "max_width": null,
            "order": null,
            "_view_module_version": "1.2.0",
            "grid_template_areas": null,
            "object_position": null,
            "object_fit": null,
            "grid_auto_columns": null,
            "margin": null,
            "display": null,
            "left": null
          }
        },
        "4beccd4f23004be39a929be3e74b84b0": {
          "model_module": "@jupyter-widgets/controls",
          "model_name": "FloatProgressModel",
          "state": {
            "_view_name": "ProgressView",
            "style": "IPY_MODEL_c2296d14c57a452c90acc3c01e61b7bb",
            "_dom_classes": [],
            "description": "",
            "_model_name": "FloatProgressModel",
            "bar_style": "success",
            "max": 4542,
            "_view_module": "@jupyter-widgets/controls",
            "_model_module_version": "1.5.0",
            "value": 4542,
            "_view_count": null,
            "_view_module_version": "1.5.0",
            "orientation": "horizontal",
            "min": 0,
            "description_tooltip": null,
            "_model_module": "@jupyter-widgets/controls",
            "layout": "IPY_MODEL_9ffac1cb8d9f411b9cb41f007910fa4a"
          }
        },
        "fca4853a9a4d48939682b4fce97f2b16": {
          "model_module": "@jupyter-widgets/controls",
          "model_name": "HTMLModel",
          "state": {
            "_view_name": "HTMLView",
            "style": "IPY_MODEL_a3051add9b1d471a997d4e6e33b8ca80",
            "_dom_classes": [],
            "description": "",
            "_model_name": "HTMLModel",
            "placeholder": "​",
            "_view_module": "@jupyter-widgets/controls",
            "_model_module_version": "1.5.0",
            "value": " 5120/? [00:00&lt;00:00, 12264.28it/s]",
            "_view_count": null,
            "_view_module_version": "1.5.0",
            "description_tooltip": null,
            "_model_module": "@jupyter-widgets/controls",
            "layout": "IPY_MODEL_8b7664cbeeb74555938cea46c6be829c"
          }
        },
        "c2296d14c57a452c90acc3c01e61b7bb": {
          "model_module": "@jupyter-widgets/controls",
          "model_name": "ProgressStyleModel",
          "state": {
            "_view_name": "StyleView",
            "_model_name": "ProgressStyleModel",
            "description_width": "initial",
            "_view_module": "@jupyter-widgets/base",
            "_model_module_version": "1.5.0",
            "_view_count": null,
            "_view_module_version": "1.2.0",
            "bar_color": null,
            "_model_module": "@jupyter-widgets/controls"
          }
        },
        "9ffac1cb8d9f411b9cb41f007910fa4a": {
          "model_module": "@jupyter-widgets/base",
          "model_name": "LayoutModel",
          "state": {
            "_view_name": "LayoutView",
            "grid_template_rows": null,
            "right": null,
            "justify_content": null,
            "_view_module": "@jupyter-widgets/base",
            "overflow": null,
            "_model_module_version": "1.2.0",
            "_view_count": null,
            "flex_flow": null,
            "width": null,
            "min_width": null,
            "border": null,
            "align_items": null,
            "bottom": null,
            "_model_module": "@jupyter-widgets/base",
            "top": null,
            "grid_column": null,
            "overflow_y": null,
            "overflow_x": null,
            "grid_auto_flow": null,
            "grid_area": null,
            "grid_template_columns": null,
            "flex": null,
            "_model_name": "LayoutModel",
            "justify_items": null,
            "grid_row": null,
            "max_height": null,
            "align_content": null,
            "visibility": null,
            "align_self": null,
            "height": null,
            "min_height": null,
            "padding": null,
            "grid_auto_rows": null,
            "grid_gap": null,
            "max_width": null,
            "order": null,
            "_view_module_version": "1.2.0",
            "grid_template_areas": null,
            "object_position": null,
            "object_fit": null,
            "grid_auto_columns": null,
            "margin": null,
            "display": null,
            "left": null
          }
        },
        "a3051add9b1d471a997d4e6e33b8ca80": {
          "model_module": "@jupyter-widgets/controls",
          "model_name": "DescriptionStyleModel",
          "state": {
            "_view_name": "StyleView",
            "_model_name": "DescriptionStyleModel",
            "description_width": "",
            "_view_module": "@jupyter-widgets/base",
            "_model_module_version": "1.5.0",
            "_view_count": null,
            "_view_module_version": "1.2.0",
            "_model_module": "@jupyter-widgets/controls"
          }
        },
        "8b7664cbeeb74555938cea46c6be829c": {
          "model_module": "@jupyter-widgets/base",
          "model_name": "LayoutModel",
          "state": {
            "_view_name": "LayoutView",
            "grid_template_rows": null,
            "right": null,
            "justify_content": null,
            "_view_module": "@jupyter-widgets/base",
            "overflow": null,
            "_model_module_version": "1.2.0",
            "_view_count": null,
            "flex_flow": null,
            "width": null,
            "min_width": null,
            "border": null,
            "align_items": null,
            "bottom": null,
            "_model_module": "@jupyter-widgets/base",
            "top": null,
            "grid_column": null,
            "overflow_y": null,
            "overflow_x": null,
            "grid_auto_flow": null,
            "grid_area": null,
            "grid_template_columns": null,
            "flex": null,
            "_model_name": "LayoutModel",
            "justify_items": null,
            "grid_row": null,
            "max_height": null,
            "align_content": null,
            "visibility": null,
            "align_self": null,
            "height": null,
            "min_height": null,
            "padding": null,
            "grid_auto_rows": null,
            "grid_gap": null,
            "max_width": null,
            "order": null,
            "_view_module_version": "1.2.0",
            "grid_template_areas": null,
            "object_position": null,
            "object_fit": null,
            "grid_auto_columns": null,
            "margin": null,
            "display": null,
            "left": null
          }
        }
      }
    }
  },
  "cells": [
    {
      "cell_type": "markdown",
      "metadata": {
        "id": "view-in-github",
        "colab_type": "text"
      },
      "source": [
        "<a href=\"https://colab.research.google.com/github/suemura820/-/blob/main/train_mnist.ipynb\" target=\"_parent\"><img src=\"https://colab.research.google.com/assets/colab-badge.svg\" alt=\"Open In Colab\"/></a>"
      ]
    },
    {
      "cell_type": "markdown",
      "metadata": {
        "id": "qyColSMEqdca"
      },
      "source": [
        "# SBRA2020チュートリアル：手書き数字認識の学習・評価\n",
        "\n",
        "学習・評価データセット…MNIST\n",
        "\n",
        "ネットワーク…CNN3"
      ]
    },
    {
      "cell_type": "markdown",
      "metadata": {
        "id": "h1_xQTAaig20"
      },
      "source": [
        "## 1. 学習"
      ]
    },
    {
      "cell_type": "markdown",
      "metadata": {
        "id": "C7gg8k4mqDWE"
      },
      "source": [
        "### 1.1. 必要モジュールのインポート"
      ]
    },
    {
      "cell_type": "code",
      "metadata": {
        "id": "8AFfTjRsBr1y"
      },
      "source": [
        "from __future__ import print_function\n",
        "\n",
        "# 基本\n",
        "import copy\n",
        "import math\n",
        "import time\n",
        "import numpy as np\n",
        "\n",
        "# Matplotlib関連\n",
        "import matplotlib.pyplot as plt\n",
        "from mpl_toolkits.mplot3d import Axes3D\n",
        "\n",
        "# PyTorch関連\n",
        "import torch\n",
        "import torch.nn as nn\n",
        "import torch.nn.functional as F\n",
        "import torch.optim as optim\n",
        "from torchvision import datasets, transforms\n",
        "from torchsummary import summary\n",
        "\n",
        "# sklearn関連\n",
        "from sklearn.metrics import roc_curve"
      ],
      "execution_count": null,
      "outputs": []
    },
    {
      "cell_type": "markdown",
      "metadata": {
        "id": "6v-G5xxNi55_"
      },
      "source": [
        "### 1.2. ネットワーク(CNN)を定義"
      ]
    },
    {
      "cell_type": "code",
      "metadata": {
        "id": "z_JJpxrXlAGM"
      },
      "source": [
        "# ArcFaceのクラス\n",
        "class ArcFaceClassifier(nn.Module):\n",
        "    def __init__(self, in_features, num_class, s = 30, m=0.5):\n",
        "        super(ArcFaceClassifier, self).__init__()\n",
        "        self.s = s\n",
        "        self.m = m\n",
        "        self.th = math.cos(math.pi - m)\n",
        "        self.mm = math.sin(math.pi - m) * m\n",
        "        self.weight = nn.Parameter(torch.FloatTensor(num_class, in_features))\n",
        "        nn.init.xavier_normal_(self.weight)\n",
        "\n",
        "    def forward(self, input, label=None, use_arcface=True):\n",
        "        if use_arcface==False:\n",
        "            cosine = F.linear(input, self.weight)\n",
        "            return cosine\n",
        "        else:\n",
        "            x = F.normalize(input, p=2)\n",
        "            weight = F.normalize(self.weight, p=2)\n",
        "            cosine = F.linear(x, weight)\n",
        "            if label is None:\n",
        "                return cosine\n",
        "            theta = torch.acos(torch.clamp(cosine, -1.0 + 1e-7, 1.0 - 1e-7))\n",
        "            m_cosine = torch.cos(theta + self.m)\n",
        "            m_cosine = torch.where(cosine > self.th, m_cosine, cosine - self.mm)\n",
        "            one_hot = torch.zeros_like(cosine)\n",
        "            one_hot.scatter_(1, label.view(-1, 1).long(), 1)\n",
        "            output = self.s * (cosine * (1 - one_hot) + m_cosine * one_hot)  \n",
        "            return output"
      ],
      "execution_count": null,
      "outputs": []
    },
    {
      "cell_type": "code",
      "metadata": {
        "id": "ayAceElI3Re_"
      },
      "source": [
        "# CNNのクラス\n",
        "class Net_MNIST_ArcFace(nn.Module):\n",
        "    def __init__(self):\n",
        "        super(Net_MNIST_ArcFace, self).__init__()\n",
        "        self.features = nn.Sequential(\n",
        "            nn.Conv2d(1, 24, 5, 2, 2),            # 1x28x28 -> 24x14x14\n",
        "            nn.ReLU(inplace=True),\n",
        "            nn.Conv2d(24, 48, 5, 2, 2),           # 24x14x14 -> 48x7x7\n",
        "            nn.ReLU(inplace=True),\n",
        "            nn.Conv2d(48, 96, 5, 2, 2),           # 48x7x7 -> 96x4x4\n",
        "            nn.ReLU(inplace=True),\n",
        "            nn.Conv2d(96, 96, 4, 1, 0, 1, 96),    # 96x4x4 -> 96x1x1 (global depth-wise convolution)\n",
        "            nn.Flatten(),\n",
        "            nn.Linear(96, 3)                      # 96 -> 3\n",
        "        )\n",
        "        self.classifier = ArcFaceClassifier(3, 10, 30.0, 0.5) \n",
        "\n",
        "    def forward(self, x, label=None, use_arcface=True):\n",
        "        x = self.features(x)\n",
        "        x = self.classifier(x, label, use_arcface)\n",
        "        return F.log_softmax(x, dim=1)        "
      ],
      "execution_count": null,
      "outputs": []
    },
    {
      "cell_type": "markdown",
      "metadata": {
        "id": "MvjYGs9pi_D9"
      },
      "source": [
        "### 1.3. CNNの学習・評価の関数を定義"
      ]
    },
    {
      "cell_type": "code",
      "metadata": {
        "id": "Yq5NUZRJiBYh"
      },
      "source": [
        "# CNNを学習する関数\n",
        "def train(model, device, train_loader, optimizer, epoch, use_arcface):\n",
        "    model.train()\n",
        "    for batch_idx, (data, target) in enumerate(train_loader):\n",
        "        data, target = data.to(device), target.to(device)\n",
        "        optimizer.zero_grad()\n",
        "        output = model(data, target, use_arcface)\n",
        "        loss = F.nll_loss(output, target)\n",
        "        loss.backward()\n",
        "        optimizer.step()\n",
        "        if batch_idx % 50 == 0:\n",
        "            print('Train Epoch: {} [{:>5}/{} ({:>2}%)]\\tLoss: {:.6f}'.format(\n",
        "                epoch, batch_idx * len(data), len(train_loader.dataset),\n",
        "                int(100. * batch_idx / len(train_loader)), loss.item()))\n",
        "\n",
        "# CNNを評価する関数\n",
        "def test(model, device, test_loader):\n",
        "    model.eval()\n",
        "    test_loss = 0\n",
        "    correct = 0\n",
        "    with torch.no_grad():\n",
        "        for data, target in test_loader:\n",
        "            data, target = data.to(device), target.to(device)\n",
        "            output = model(data)\n",
        "            test_loss += F.nll_loss(output, target, reduction='sum').item()\n",
        "            pred = output.argmax(dim=1, keepdim=True)\n",
        "            correct += pred.eq(target.view_as(pred)).sum().item()\n",
        "    test_loss /= len(test_loader.dataset)\n",
        "    print('\\nTest set: Average loss: {:.4f}, Accuracy: {}/{} ({:.0f}%)\\n'.format(\n",
        "        test_loss, correct, len(test_loader.dataset),\n",
        "        100. * correct / len(test_loader.dataset)))"
      ],
      "execution_count": null,
      "outputs": []
    },
    {
      "cell_type": "markdown",
      "metadata": {
        "id": "Yr9HJuXVjMav"
      },
      "source": [
        "### 1.3. 各種パラメータを設定"
      ]
    },
    {
      "cell_type": "code",
      "metadata": {
        "id": "w1sGVCYuGMaa"
      },
      "source": [
        "# 超パラメータ設定\n",
        "batch_size_train = 128\n",
        "batch_size_test = 1000\n",
        "epochs = 3\n",
        "lr = 0.01\n",
        "momentum = 0.9\n",
        "weight_decay = 0.00001\n",
        "\n",
        "no_cuda = False\n",
        "seed = 0\n",
        "save_model = False\n",
        "\n",
        "# CPU/GPU(CUDA)の状態\n",
        "use_cuda = not no_cuda and torch.cuda.is_available()\n",
        "device = torch.device(\"cuda\" if use_cuda else \"cpu\")\n",
        "\n",
        "# シード設定\n",
        "torch.manual_seed(seed)\n",
        "\n",
        "# numpyのprint出力の設定\n",
        "np.set_printoptions(suppress=True, precision=5, floatmode='fixed')"
      ],
      "execution_count": null,
      "outputs": []
    },
    {
      "cell_type": "markdown",
      "metadata": {
        "id": "NNBx7NpxjT21"
      },
      "source": [
        "### 1.4. Datasetを作成"
      ]
    },
    {
      "cell_type": "code",
      "metadata": {
        "id": "gSjg8Z1igzs0",
        "colab": {
          "base_uri": "https://localhost:8080/",
          "height": 845,
          "referenced_widgets": [
            "c83f6129960b46e5a94a050199b1bf4d",
            "d3c4ce6a6d374c078cd3286742ab1e54",
            "4d1ff3d1c4234515999a6fa64b2e51da",
            "7249e19a4e2a4933bf1dee2d2180421a",
            "f94303df02d34e1da32b45277bf58f17",
            "94beca4133dd4840b80c18bd88afae17",
            "5a03f07d4be14b62acff19303bdde4df",
            "190bb897a4cf4d0fa84f183971e0ed7c",
            "a55cf029a7914c4080d3874338a3bb74",
            "262c4288faef438ebfb711d47ef442ec",
            "b959866c18ba4fbcafd021afa7b5f4ff",
            "73506b9935eb435082ffdf0a3bc56d13",
            "3e5ada2a26a944d59b9f262c20ad37de",
            "08ca7434635d43c7ad5f4b8ed6df77f8",
            "5946bdab4604467f991b6fa070faae00",
            "4457e4ff025a44ae86d7154b403600e4",
            "7ad514026fea42628dffe0c9189eba6b",
            "c507426a8a814008ac617e2edaf2e161",
            "1bba67dd635246dba57a25e1ca00d92e",
            "c8c01143c7ba45b8b9c8febda3a9144e",
            "2e14d2b1379e400b9c8e28e8d1bec051",
            "c571bff0c607459183f4a9ec84c7ab2c",
            "306e5c1c87d4427282d4939de9d41540",
            "e39b1f47ac8f4282a7c0176a1200f850",
            "d87f7c0fd31b4d24bff87517755e9ab8",
            "41209cd89ac5403cbaa74097dbe575bd",
            "4beccd4f23004be39a929be3e74b84b0",
            "fca4853a9a4d48939682b4fce97f2b16",
            "c2296d14c57a452c90acc3c01e61b7bb",
            "9ffac1cb8d9f411b9cb41f007910fa4a",
            "a3051add9b1d471a997d4e6e33b8ca80",
            "8b7664cbeeb74555938cea46c6be829c"
          ]
        },
        "outputId": "432c0f93-a404-40c0-be93-044967e7170b"
      },
      "source": [
        "# MNISTのDatasetを作成\n",
        "train_dataset_MNIST = datasets.MNIST('./data', train=True, download=True,\n",
        "    transform=transforms.Compose([transforms.ToTensor(), transforms.Normalize((0.1307,), (0.3081,))]))\n",
        "test_dataset_MNIST = datasets.MNIST('./data', train=False, \n",
        "    transform=transforms.Compose([transforms.ToTensor(), transforms.Normalize((0.1307,), (0.3081,))]))"
      ],
      "execution_count": null,
      "outputs": [
        {
          "output_type": "stream",
          "text": [
            "Downloading http://yann.lecun.com/exdb/mnist/train-images-idx3-ubyte.gz\n",
            "Failed to download (trying next):\n",
            "HTTP Error 503: Service Unavailable\n",
            "\n",
            "Downloading https://ossci-datasets.s3.amazonaws.com/mnist/train-images-idx3-ubyte.gz\n",
            "Downloading https://ossci-datasets.s3.amazonaws.com/mnist/train-images-idx3-ubyte.gz to ./data/MNIST/raw/train-images-idx3-ubyte.gz\n"
          ],
          "name": "stdout"
        },
        {
          "output_type": "display_data",
          "data": {
            "application/vnd.jupyter.widget-view+json": {
              "model_id": "c83f6129960b46e5a94a050199b1bf4d",
              "version_minor": 0,
              "version_major": 2
            },
            "text/plain": [
              "HBox(children=(FloatProgress(value=0.0, max=9912422.0), HTML(value='')))"
            ]
          },
          "metadata": {
            "tags": []
          }
        },
        {
          "output_type": "stream",
          "text": [
            "\n",
            "Extracting ./data/MNIST/raw/train-images-idx3-ubyte.gz to ./data/MNIST/raw\n",
            "\n",
            "Downloading http://yann.lecun.com/exdb/mnist/train-labels-idx1-ubyte.gz\n",
            "Failed to download (trying next):\n",
            "HTTP Error 503: Service Unavailable\n",
            "\n",
            "Downloading https://ossci-datasets.s3.amazonaws.com/mnist/train-labels-idx1-ubyte.gz\n",
            "Downloading https://ossci-datasets.s3.amazonaws.com/mnist/train-labels-idx1-ubyte.gz to ./data/MNIST/raw/train-labels-idx1-ubyte.gz\n"
          ],
          "name": "stdout"
        },
        {
          "output_type": "display_data",
          "data": {
            "application/vnd.jupyter.widget-view+json": {
              "model_id": "a55cf029a7914c4080d3874338a3bb74",
              "version_minor": 0,
              "version_major": 2
            },
            "text/plain": [
              "HBox(children=(FloatProgress(value=0.0, max=28881.0), HTML(value='')))"
            ]
          },
          "metadata": {
            "tags": []
          }
        },
        {
          "output_type": "stream",
          "text": [
            "\n",
            "Extracting ./data/MNIST/raw/train-labels-idx1-ubyte.gz to ./data/MNIST/raw\n",
            "\n",
            "Downloading http://yann.lecun.com/exdb/mnist/t10k-images-idx3-ubyte.gz\n",
            "Failed to download (trying next):\n",
            "HTTP Error 503: Service Unavailable\n",
            "\n",
            "Downloading https://ossci-datasets.s3.amazonaws.com/mnist/t10k-images-idx3-ubyte.gz\n",
            "Downloading https://ossci-datasets.s3.amazonaws.com/mnist/t10k-images-idx3-ubyte.gz to ./data/MNIST/raw/t10k-images-idx3-ubyte.gz\n"
          ],
          "name": "stdout"
        },
        {
          "output_type": "display_data",
          "data": {
            "application/vnd.jupyter.widget-view+json": {
              "model_id": "7ad514026fea42628dffe0c9189eba6b",
              "version_minor": 0,
              "version_major": 2
            },
            "text/plain": [
              "HBox(children=(FloatProgress(value=0.0, max=1648877.0), HTML(value='')))"
            ]
          },
          "metadata": {
            "tags": []
          }
        },
        {
          "output_type": "stream",
          "text": [
            "\n",
            "Extracting ./data/MNIST/raw/t10k-images-idx3-ubyte.gz to ./data/MNIST/raw\n",
            "\n",
            "Downloading http://yann.lecun.com/exdb/mnist/t10k-labels-idx1-ubyte.gz\n",
            "Failed to download (trying next):\n",
            "HTTP Error 503: Service Unavailable\n",
            "\n",
            "Downloading https://ossci-datasets.s3.amazonaws.com/mnist/t10k-labels-idx1-ubyte.gz\n",
            "Downloading https://ossci-datasets.s3.amazonaws.com/mnist/t10k-labels-idx1-ubyte.gz to ./data/MNIST/raw/t10k-labels-idx1-ubyte.gz\n"
          ],
          "name": "stdout"
        },
        {
          "output_type": "display_data",
          "data": {
            "application/vnd.jupyter.widget-view+json": {
              "model_id": "d87f7c0fd31b4d24bff87517755e9ab8",
              "version_minor": 0,
              "version_major": 2
            },
            "text/plain": [
              "HBox(children=(FloatProgress(value=0.0, max=4542.0), HTML(value='')))"
            ]
          },
          "metadata": {
            "tags": []
          }
        },
        {
          "output_type": "stream",
          "text": [
            "\n",
            "Extracting ./data/MNIST/raw/t10k-labels-idx1-ubyte.gz to ./data/MNIST/raw\n",
            "\n",
            "Processing...\n"
          ],
          "name": "stdout"
        },
        {
          "output_type": "stream",
          "text": [
            "/usr/local/lib/python3.7/dist-packages/torchvision/datasets/mnist.py:502: UserWarning: The given NumPy array is not writeable, and PyTorch does not support non-writeable tensors. This means you can write to the underlying (supposedly non-writeable) NumPy array using the tensor. You may want to copy the array to protect its data or make it writeable before converting it to a tensor. This type of warning will be suppressed for the rest of this program. (Triggered internally at  /pytorch/torch/csrc/utils/tensor_numpy.cpp:143.)\n",
            "  return torch.from_numpy(parsed.astype(m[2], copy=False)).view(*s)\n"
          ],
          "name": "stderr"
        },
        {
          "output_type": "stream",
          "text": [
            "Done!\n"
          ],
          "name": "stdout"
        }
      ]
    },
    {
      "cell_type": "markdown",
      "metadata": {
        "id": "qz_v1C9-Xutt"
      },
      "source": [
        "### 1.5. DataLoaderを作成"
      ]
    },
    {
      "cell_type": "code",
      "metadata": {
        "id": "rLbsKTKGXvMp"
      },
      "source": [
        "# 学習・評価用のDataLoaderを作成\n",
        "kwargs = {'num_workers': 1, 'pin_memory': True} if use_cuda else {}\n",
        "train_loader = torch.utils.data.DataLoader(\n",
        "    train_dataset_MNIST, batch_size=batch_size_train, shuffle=True, **kwargs)\n",
        "test_loader = torch.utils.data.DataLoader(\n",
        "    test_dataset_MNIST, batch_size=batch_size_test, shuffle=False, **kwargs)"
      ],
      "execution_count": null,
      "outputs": []
    },
    {
      "cell_type": "markdown",
      "metadata": {
        "id": "U8THqva5l05I"
      },
      "source": [
        "### 1.6. MNISTのサンプルを描画"
      ]
    },
    {
      "cell_type": "code",
      "metadata": {
        "id": "IjFJ3uSqdfIO",
        "colab": {
          "base_uri": "https://localhost:8080/",
          "height": 419
        },
        "outputId": "b1969c06-216e-4490-e7a5-fb9249d10779"
      },
      "source": [
        "# MNISTのサンプル表示用にDataLoaderを作成、描画\n",
        "col = 10\n",
        "row = 5\n",
        "sample_dataset_MNIST = datasets.MNIST('./data', train=False, \n",
        "    transform=transforms.Compose([transforms.ToTensor()]))\n",
        "sample_loader = torch.utils.data.DataLoader(\n",
        "    sample_dataset_MNIST, batch_size=col*row, shuffle=True, **kwargs)\n",
        "plt.figure(figsize=(12, 7))\n",
        "for i, (imgs, labels) in enumerate(sample_loader):\n",
        "    for j in range(0, col*row):\n",
        "        img = (imgs[j].permute(1, 2, 0) * 255).to(torch.uint8)\n",
        "        plt.subplot(row, col, j+1)\n",
        "        plt.imshow(np.squeeze(img), cmap='gray')\n",
        "        plt.title(f'{labels[j]}')\n",
        "        plt.axis('off')\n",
        "    break"
      ],
      "execution_count": null,
      "outputs": [
        {
          "output_type": "display_data",
          "data": {
            "image/png": "[encoded data removed]",
            "text/plain": [
              "<Figure size 864x504 with 50 Axes>"
            ]
          },
          "metadata": {
            "tags": [],
            "needs_background": "light"
          }
        }
      ]
    },
    {
      "cell_type": "markdown",
      "metadata": {
        "id": "m7mxD1iwl7KH"
      },
      "source": [
        "### 1.7. モデルを生成"
      ]
    },
    {
      "cell_type": "code",
      "metadata": {
        "id": "8GXT2bFTrxUX",
        "colab": {
          "base_uri": "https://localhost:8080/"
        },
        "outputId": "dd7311a1-6af3-4e80-ba45-8c7d8050d790"
      },
      "source": [
        "# モデルを生成\n",
        "model = Net_MNIST_ArcFace().to(device)\n",
        "\n",
        "# ネットワーク情報を表示\n",
        "summary(model, (1,28,28))"
      ],
      "execution_count": null,
      "outputs": [
        {
          "output_type": "stream",
          "text": [
            "----------------------------------------------------------------\n",
            "        Layer (type)               Output Shape         Param #\n",
            "================================================================\n",
            "            Conv2d-1           [-1, 24, 14, 14]             624\n",
            "              ReLU-2           [-1, 24, 14, 14]               0\n",
            "            Conv2d-3             [-1, 48, 7, 7]          28,848\n",
            "              ReLU-4             [-1, 48, 7, 7]               0\n",
            "            Conv2d-5             [-1, 96, 4, 4]         115,296\n",
            "              ReLU-6             [-1, 96, 4, 4]               0\n",
            "            Conv2d-7             [-1, 96, 1, 1]           1,632\n",
            "           Flatten-8                   [-1, 96]               0\n",
            "            Linear-9                    [-1, 3]             291\n",
            "ArcFaceClassifier-10                   [-1, 10]              30\n",
            "================================================================\n",
            "Total params: 146,721\n",
            "Trainable params: 146,721\n",
            "Non-trainable params: 0\n",
            "----------------------------------------------------------------\n",
            "Input size (MB): 0.00\n",
            "Forward/backward pass size (MB): 0.13\n",
            "Params size (MB): 0.56\n",
            "Estimated Total Size (MB): 0.70\n",
            "----------------------------------------------------------------\n"
          ],
          "name": "stdout"
        }
      ]
    },
    {
      "cell_type": "markdown",
      "metadata": {
        "id": "VsGjgzAurzA0"
      },
      "source": [
        "### 1.8. モデルを学習\n",
        "Softmaxで学習し、ArcFaceで1エポック追加学習する"
      ]
    },
    {
      "cell_type": "code",
      "metadata": {
        "id": "Q_ah4LzBdAbS",
        "colab": {
          "base_uri": "https://localhost:8080/"
        },
        "outputId": "e7f013bd-77b1-4e80-9ac3-6a90a0c0cd65"
      },
      "source": [
        "# optimizerをSGDに設定\n",
        "optimizer = optim.SGD(model.parameters(), lr=lr, momentum=momentum, weight_decay=weight_decay)\n",
        "\n",
        "# モデルを学習(Softmax)\n",
        "for epoch in range(1, epochs+1):\n",
        "  train(model, device, train_loader, optimizer, epoch, use_arcface=False)\n",
        "  test(model, device, test_loader)\n",
        "model_1 = copy.deepcopy(model)\n",
        "\n",
        "# モデルを学習(ArcFaceで追加学習)\n",
        "for epoch in range(epochs+1, epochs+3):\n",
        "  train(model, device, train_loader, optimizer, epoch, use_arcface=True)\n",
        "  test(model, device, test_loader)\n",
        "model_2 = copy.deepcopy(model)"
      ],
      "execution_count": null,
      "outputs": [
        {
          "output_type": "stream",
          "text": [
            "Train Epoch: 1 [    0/60000 ( 0%)]\tLoss: 2.300804\n",
            "Train Epoch: 1 [ 6400/60000 (10%)]\tLoss: 2.280368\n",
            "Train Epoch: 1 [12800/60000 (21%)]\tLoss: 1.864996\n",
            "Train Epoch: 1 [19200/60000 (31%)]\tLoss: 0.916246\n",
            "Train Epoch: 1 [25600/60000 (42%)]\tLoss: 0.827539\n",
            "Train Epoch: 1 [32000/60000 (53%)]\tLoss: 0.401050\n",
            "Train Epoch: 1 [38400/60000 (63%)]\tLoss: 0.679169\n",
            "Train Epoch: 1 [44800/60000 (74%)]\tLoss: 0.265134\n",
            "Train Epoch: 1 [51200/60000 (85%)]\tLoss: 0.355162\n",
            "Train Epoch: 1 [57600/60000 (95%)]\tLoss: 0.376057\n",
            "\n",
            "Test set: Average loss: 1.6034, Accuracy: 7949/10000 (79%)\n",
            "\n",
            "Train Epoch: 2 [    0/60000 ( 0%)]\tLoss: 0.325950\n",
            "Train Epoch: 2 [ 6400/60000 (10%)]\tLoss: 0.240445\n",
            "Train Epoch: 2 [12800/60000 (21%)]\tLoss: 0.327256\n",
            "Train Epoch: 2 [19200/60000 (31%)]\tLoss: 0.260340\n",
            "Train Epoch: 2 [25600/60000 (42%)]\tLoss: 0.360644\n",
            "Train Epoch: 2 [32000/60000 (53%)]\tLoss: 0.128884\n",
            "Train Epoch: 2 [38400/60000 (63%)]\tLoss: 0.222031\n",
            "Train Epoch: 2 [44800/60000 (74%)]\tLoss: 0.097704\n",
            "Train Epoch: 2 [51200/60000 (85%)]\tLoss: 0.155871\n",
            "Train Epoch: 2 [57600/60000 (95%)]\tLoss: 0.126587\n",
            "\n",
            "Test set: Average loss: 1.5799, Accuracy: 8347/10000 (83%)\n",
            "\n",
            "Train Epoch: 3 [    0/60000 ( 0%)]\tLoss: 0.166713\n",
            "Train Epoch: 3 [ 6400/60000 (10%)]\tLoss: 0.348232\n",
            "Train Epoch: 3 [12800/60000 (21%)]\tLoss: 0.077346\n",
            "Train Epoch: 3 [19200/60000 (31%)]\tLoss: 0.053033\n",
            "Train Epoch: 3 [25600/60000 (42%)]\tLoss: 0.053240\n",
            "Train Epoch: 3 [32000/60000 (53%)]\tLoss: 0.103644\n"
          ],
          "name": "stdout"
        }
      ]
    },
    {
      "cell_type": "markdown",
      "metadata": {
        "id": "NKHrIFbHmeJn"
      },
      "source": [
        "## 2. 分析・評価"
      ]
    },
    {
      "cell_type": "markdown",
      "metadata": {
        "id": "z9NxU1TBqJA8"
      },
      "source": [
        "### 2.1. 学習したCNNで特徴量抽出"
      ]
    },
    {
      "cell_type": "code",
      "metadata": {
        "id": "U5ksryG2rjX7"
      },
      "source": [
        "# 特徴量抽出する関数\n",
        "def embedding(model, device, test_loader):\n",
        "    feature_list = []\n",
        "    target_list = []\n",
        "    model.eval()\n",
        "    with torch.no_grad():\n",
        "        for data, target in test_loader:\n",
        "            data = data.to(device)\n",
        "            features = model.features(data)\n",
        "            feature_list.append(features.to('cpu').detach())\n",
        "            target_list.append(target)\n",
        "    return torch.cat(feature_list, dim=0).numpy().copy(), torch.cat(target_list, dim=0).numpy().copy()\n",
        "\n",
        "# 特徴量(を列ベクトルにもつ行列)をL2ノルムを1にする関数(L2正規化)\n",
        "def l2normalize(src):\n",
        "    dst = src.copy()\n",
        "    for feature in dst:\n",
        "        a = np.linalg.norm(feature)\n",
        "        if a==0:\n",
        "            continue\n",
        "        feature /= a\n",
        "    return dst"
      ],
      "execution_count": null,
      "outputs": []
    },
    {
      "cell_type": "code",
      "metadata": {
        "id": "cxwJ5HGuK_xq"
      },
      "source": [
        "# 特徴量を計算(Softmax版)\n",
        "features_1_orig, targets_1 = embedding(model_1, device, test_loader)\n",
        "features_1 = l2normalize(features_1_orig) # L2正規化\n",
        "\n",
        "# 特徴量を計算(ArcFace版)\n",
        "features_2_orig, targets_2 = embedding(model_2, device, test_loader)\n",
        "features_2 = l2normalize(features_2_orig) # L2正規化"
      ],
      "execution_count": null,
      "outputs": []
    },
    {
      "cell_type": "markdown",
      "metadata": {
        "id": "HnTWOt6ymppu"
      },
      "source": [
        "### 2.2. 特徴量をプロット"
      ]
    },
    {
      "cell_type": "code",
      "metadata": {
        "id": "TxocRwnorq5N"
      },
      "source": [
        "# 特徴量をプロット(正規化前)\n",
        "fig = plt.figure(figsize=(16,8))\n",
        "ax = fig.add_subplot(121, projection='3d')\n",
        "ax.scatter(features_1_orig[::,0], features_1_orig[::,1], features_1_orig[::,2], c=targets_1, s=1)\n",
        "ax.set_title('Feature distribution (Softmax)')\n",
        "ax = fig.add_subplot(122, projection='3d')\n",
        "ax.scatter(features_2_orig[::,0], features_2_orig[::,1], features_2_orig[::,2], c=targets_2, s=1)\n",
        "a = ax.set_title('Feature distribution (ArcFace)')"
      ],
      "execution_count": null,
      "outputs": []
    },
    {
      "cell_type": "code",
      "metadata": {
        "id": "d3WVLmrqLPvN"
      },
      "source": [
        "# 特徴量をプロット(正規化後)\n",
        "fig = plt.figure(figsize=(16,8))\n",
        "ax = fig.add_subplot(121, projection='3d')\n",
        "ax.scatter(features_1[::,0], features_1[::,1], features_1[::,2], c=targets_1, s=1)\n",
        "ax.set_title('Normalized feature distribution (Softmax)')\n",
        "ax = fig.add_subplot(122, projection='3d')\n",
        "ax.scatter(features_2[::,0], features_2[::,1], features_2[::,2], c=targets_2, s=1)\n",
        "a = ax.set_title('Normalized feature distribution (ArcFace)')"
      ],
      "execution_count": null,
      "outputs": []
    },
    {
      "cell_type": "markdown",
      "metadata": {
        "id": "XB6DKIvsmv1u"
      },
      "source": [
        "### 2.3. スコア(コサイン類似度)を計算"
      ]
    },
    {
      "cell_type": "code",
      "metadata": {
        "id": "YILbDYNxSsRC"
      },
      "source": [
        "# スコア(コサイン類似度)行列を計算(Softmax版)\n",
        "# 10,000枚あるので、10,000×10,000の行列となる\n",
        "score_matrix_1 = features_1 @ features_1.T\n",
        "\n",
        "# ラベル(縦ベクトル)\n",
        "targets_v = np.reshape(targets_1,(len(targets_1),1))\n",
        "# ラベル(横ベクトル)\n",
        "targets_h = np.reshape(targets_1,(1,len(targets_1)))\n",
        "\n",
        "# 同じ数字同士のスコアを抽出(降順ソート)\n",
        "score_1_mate = np.sort(score_matrix_1[np.where(np.triu(targets_v==targets_h, k=1))])[::-1]\n",
        "# 異なる数字同士のスコアを抽出(降順ソート)\n",
        "score_1_nonmate = np.sort(score_matrix_1[np.where(np.triu(targets_v!=targets_h, k=1))])[::-1]\n",
        "\n",
        "print(score_matrix_1)"
      ],
      "execution_count": null,
      "outputs": []
    },
    {
      "cell_type": "code",
      "metadata": {
        "id": "8PEF5VlpU2yv"
      },
      "source": [
        "# スコア(コサイン類似度)行列を計算(5エポック版)\n",
        "# 10,000枚あるので、10,000×10,000の行列となる\n",
        "score_matrix_2 = features_2 @ features_2.T\n",
        "\n",
        "# ラベル(縦ベクトル)\n",
        "targets_v = np.reshape(targets_2,(len(targets_2),1))\n",
        "# ラベル(横ベクトル)\n",
        "targets_h = np.reshape(targets_2,(1,len(targets_2)))\n",
        "\n",
        "# 同じ数字同士のスコアを抽出(降順ソート)\n",
        "score_2_mate = np.sort(score_matrix_2[np.where(np.triu(targets_v==targets_h, k=1))])[::-1]\n",
        "# 異なる数字同士のスコアを抽出(降順ソート)\n",
        "score_2_nonmate = np.sort(score_matrix_2[np.where(np.triu(targets_v!=targets_h, k=1))])[::-1]\n",
        "\n",
        "print(score_matrix_2)"
      ],
      "execution_count": null,
      "outputs": []
    },
    {
      "cell_type": "markdown",
      "metadata": {
        "id": "H88r2bH2m8Dp"
      },
      "source": [
        "### 2.4. スコアの確率分布を描画"
      ]
    },
    {
      "cell_type": "code",
      "metadata": {
        "id": "E3l4kFdaTY7R"
      },
      "source": [
        "fig = plt.figure(figsize=(16,5))\n",
        "ax = fig.add_subplot(121)\n",
        "ax.hist(score_1_mate, alpha=0.5, density=True, bins=80, label='mate')\n",
        "ax.hist(score_1_nonmate, alpha=0.5, density=True, bins=80, label='nonmate')\n",
        "ax.set_ylim(0, 10)\n",
        "ax.set_title('Score distribution (Softmax)')\n",
        "ax.legend(loc=2)\n",
        "ax = fig.add_subplot(122)\n",
        "ax.hist(score_2_mate, alpha=0.5, density=True, bins=80, label='mate')\n",
        "ax.hist(score_2_nonmate, alpha=0.5, density=True, bins=80, label='nonmate')\n",
        "ax.set_ylim(0, 10)\n",
        "ax.set_title('Score distribution (ArcFace)')\n",
        "ax.legend(loc=2)"
      ],
      "execution_count": null,
      "outputs": []
    },
    {
      "cell_type": "markdown",
      "metadata": {
        "id": "OanMknjEnNHf"
      },
      "source": [
        "### 2.5. FAR・FRR・閾値を計算"
      ]
    },
    {
      "cell_type": "code",
      "metadata": {
        "id": "ALZwgqP0hZr0"
      },
      "source": [
        "grandtruth = np.concatenate((np.ones_like(score_1_mate), np.zeros_like(score_1_nonmate)))\n",
        "score_1 = np.concatenate((score_1_mate, score_1_nonmate))\n",
        "score_2 = np.concatenate((score_2_mate, score_2_nonmate))\n",
        "\n",
        "far_1, tar_1, thresholds_1 = roc_curve(grandtruth, score_1)\n",
        "frr_1 = 1 - tar_1\n",
        "\n",
        "far_2, tar_2, thresholds_2 = roc_curve(grandtruth, score_2)\n",
        "frr_2 = 1 - tar_2"
      ],
      "execution_count": null,
      "outputs": []
    },
    {
      "cell_type": "markdown",
      "metadata": {
        "id": "iMcY1FHN7BhL"
      },
      "source": [
        "### 2.6. ROC曲線を描画"
      ]
    },
    {
      "cell_type": "code",
      "metadata": {
        "id": "GrI7iKL02-GD"
      },
      "source": [
        "plt.figure(figsize=(6, 6))\n",
        "plt.plot(far_1, tar_1, alpha=0.5, color='red', label='softmax')\n",
        "plt.plot(far_2, tar_2, alpha=0.5, color='blue', label='arcface')\n",
        "plt.xlabel('FAR: False accept rate')\n",
        "plt.ylabel('TAR: True accept rate')\n",
        "plt.legend(loc=4)\n",
        "plt.grid()"
      ],
      "execution_count": null,
      "outputs": []
    },
    {
      "cell_type": "markdown",
      "metadata": {
        "id": "2IP7cyum7HkL"
      },
      "source": [
        "### 2.7. DET曲線を描画"
      ]
    },
    {
      "cell_type": "code",
      "metadata": {
        "id": "4121Knss_Lu-",
        "cellView": "both"
      },
      "source": [
        "plt.figure(figsize=(6, 6))\n",
        "plt.plot(far_1, frr_1, alpha=0.5, color='red', label='softmax')\n",
        "plt.plot(far_2, frr_2, alpha=0.5, color='blue', label='arcface')\n",
        "plt.xscale('log')\n",
        "#plt.yscale('log')\n",
        "plt.xlim([0.0001,1])\n",
        "plt.xlabel('FAR: False accept rate')\n",
        "plt.ylabel('FRR: False reject rate')\n",
        "plt.legend(loc=1)\n",
        "plt.grid()"
      ],
      "execution_count": null,
      "outputs": []
    }
  ]
}